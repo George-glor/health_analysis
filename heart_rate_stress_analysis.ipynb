{
 "cells": [
  {
   "cell_type": "code",
   "execution_count": 4,
   "id": "898ba870",
   "metadata": {},
   "outputs": [
    {
     "name": "stdout",
     "output_type": "stream",
     "text": [
      "Heart Rate Data:\n",
      "           Id                  Time  Value\n",
      "0  2022484408  4/12/2016 7:21:00 AM     97\n",
      "1  2022484408  4/12/2016 7:21:05 AM    102\n",
      "2  2022484408  4/12/2016 7:21:10 AM    105\n",
      "3  2022484408  4/12/2016 7:21:20 AM    103\n",
      "4  2022484408  4/12/2016 7:21:25 AM    101\n",
      "\n",
      "Calories Data:\n",
      "           Id ActivityDay  Calories\n",
      "0  1503960366   4/12/2016      1985\n",
      "1  1503960366   4/13/2016      1797\n",
      "2  1503960366   4/14/2016      1776\n",
      "3  1503960366   4/15/2016      1745\n",
      "4  1503960366   4/16/2016      1863\n",
      "\n",
      "Sleep Data:\n",
      "           Id               SleepDay  TotalSleepRecords  TotalMinutesAsleep  \\\n",
      "0  1503960366  4/12/2016 12:00:00 AM                  1                 327   \n",
      "1  1503960366  4/13/2016 12:00:00 AM                  2                 384   \n",
      "2  1503960366  4/15/2016 12:00:00 AM                  1                 412   \n",
      "3  1503960366  4/16/2016 12:00:00 AM                  2                 340   \n",
      "4  1503960366  4/17/2016 12:00:00 AM                  1                 700   \n",
      "\n",
      "   TotalTimeInBed  \n",
      "0             346  \n",
      "1             407  \n",
      "2             442  \n",
      "3             367  \n",
      "4             712  \n",
      "\n",
      "Steps Data:\n",
      "           Id ActivityDay  StepTotal\n",
      "0  1503960366   4/12/2016      13162\n",
      "1  1503960366   4/13/2016      10735\n",
      "2  1503960366   4/14/2016      10460\n",
      "3  1503960366   4/15/2016       9762\n",
      "4  1503960366   4/16/2016      12669\n"
     ]
    }
   ],
   "source": [
    "import pandas as pd\n",
    "\n",
    "url_heart_rate = 'https://raw.githubusercontent.com/George-glor/health_analysis/main/heartrate.csv'\n",
    "url_calories = 'https://raw.githubusercontent.com/George-glor/health_analysis/main/calories.csv'\n",
    "url_sleep = 'https://raw.githubusercontent.com/George-glor/health_analysis/main/sleep.csv'\n",
    "url_steps = 'https://raw.githubusercontent.com/George-glor/health_analysis/main/steps%201.csv'\n",
    "\n",
    "# Load each CSV into a pandas DataFrame\n",
    "heart_rate = pd.read_csv(url_heart_rate)\n",
    "calories = pd.read_csv(url_calories)\n",
    "sleep = pd.read_csv(url_sleep)\n",
    "steps = pd.read_csv(url_steps)\n",
    "\n",
    "# Display the first few rows of each DataFrame\n",
    "print(\"Heart Rate Data:\")\n",
    "print(heart_rate.head())\n",
    "\n",
    "print(\"\\nCalories Data:\")\n",
    "print(calories.head())\n",
    "\n",
    "print(\"\\nSleep Data:\")\n",
    "print(sleep.head())\n",
    "\n",
    "print(\"\\nSteps Data:\")\n",
    "print(steps.head())\n"
   ]
  },
  {
   "cell_type": "code",
   "execution_count": 6,
   "id": "814cd170",
   "metadata": {},
   "outputs": [
    {
     "name": "stdout",
     "output_type": "stream",
     "text": [
      "Heart Rate Data Types:\n",
      "Id                int64\n",
      "Time     datetime64[ns]\n",
      "Value             int64\n",
      "dtype: object\n",
      "\n",
      "Calories Data Types:\n",
      "Id                      int64\n",
      "ActivityDay    datetime64[ns]\n",
      "Calories                int64\n",
      "dtype: object\n",
      "\n",
      "Sleep Data Types:\n",
      "Id                             int64\n",
      "SleepDay              datetime64[ns]\n",
      "TotalSleepRecords              int64\n",
      "TotalMinutesAsleep             int64\n",
      "TotalTimeInBed                 int64\n",
      "dtype: object\n",
      "\n",
      "Steps Data Types:\n",
      "Id                      int64\n",
      "ActivityDay    datetime64[ns]\n",
      "StepTotal               int64\n",
      "dtype: object\n"
     ]
    }
   ],
   "source": [
    "# Convert the date columns to datetime format\n",
    "heart_rate['Time'] = pd.to_datetime(heart_rate['Time'])\n",
    "calories['ActivityDay'] = pd.to_datetime(calories['ActivityDay'])\n",
    "sleep['SleepDay'] = pd.to_datetime(sleep['SleepDay'])\n",
    "steps['ActivityDay'] = pd.to_datetime(steps['ActivityDay'])\n",
    "\n",
    "# Confirm that the conversion worked by checking the data types\n",
    "print(\"Heart Rate Data Types:\")\n",
    "print(heart_rate.dtypes)\n",
    "\n",
    "print(\"\\nCalories Data Types:\")\n",
    "print(calories.dtypes)\n",
    "\n",
    "print(\"\\nSleep Data Types:\")\n",
    "print(sleep.dtypes)\n",
    "\n",
    "print(\"\\nSteps Data Types:\")\n",
    "print(steps.dtypes)\n"
   ]
  },
  {
   "cell_type": "code",
   "execution_count": 8,
   "id": "bf63d4ae",
   "metadata": {},
   "outputs": [
    {
     "name": "stdout",
     "output_type": "stream",
     "text": [
      "Merged Data:\n",
      "           Id       Date  AvgHeartRate ActivityDay_x  Calories  \\\n",
      "0  2026352035 2016-04-17     68.656250    2016-04-17      1214   \n",
      "1  2026352035 2016-04-25     99.505814    2016-04-25      1576   \n",
      "2  2026352035 2016-05-02     84.134571    2016-05-02      1690   \n",
      "3  2026352035 2016-05-09     98.233901    2016-05-09      1869   \n",
      "4  2347167796 2016-04-13     73.812905    2016-04-13      2038   \n",
      "\n",
      "   TotalSleepRecords  TotalMinutesAsleep  TotalTimeInBed ActivityDay_y  \\\n",
      "0                  1                 437             498    2016-04-17   \n",
      "1                  1                 506             531    2016-04-25   \n",
      "2                  1                 511             543    2016-05-02   \n",
      "3                  1                 531             556    2016-05-09   \n",
      "4                  1                 467             531    2016-04-13   \n",
      "\n",
      "   StepTotal  \n",
      "0        838  \n",
      "1       6017  \n",
      "2       7018  \n",
      "3      10685  \n",
      "4      10352  \n"
     ]
    }
   ],
   "source": [
    "# Step 2: Aggregating heart rate data to daily averages\n",
    "heart_rate['Date'] = heart_rate['Time'].dt.date  \n",
    "daily_heart_rate = heart_rate.groupby(['Id', 'Date']).agg({'Value': 'mean'}).reset_index()\n",
    "daily_heart_rate.rename(columns={'Value': 'AvgHeartRate'}, inplace=True)\n",
    "\n",
    "# Merge the datasets on Id and date\n",
    "daily_heart_rate['Date'] = pd.to_datetime(daily_heart_rate['Date'])\n",
    "merged_data = pd.merge(daily_heart_rate, calories, left_on=['Id', 'Date'], right_on=['Id', 'ActivityDay'], how='inner')\n",
    "merged_data = pd.merge(merged_data, sleep, left_on=['Id', 'Date'], right_on=['Id', 'SleepDay'], how='inner')\n",
    "merged_data = pd.merge(merged_data, steps, left_on=['Id', 'Date'], right_on=['Id', 'ActivityDay'], how='inner')\n",
    "\n",
    "# Check if columns exist before dropping\n",
    "columns_to_drop = ['ActivityDay', 'SleepDay']\n",
    "for column in columns_to_drop:\n",
    "    if column in merged_data.columns:\n",
    "        merged_data.drop(columns=[column], inplace=True)\n",
    "\n",
    "# Display the merged data to ensure everything looks correct\n",
    "print(\"Merged Data:\")\n",
    "print(merged_data.head())\n"
   ]
  },
  {
   "cell_type": "code",
   "execution_count": 9,
   "id": "81b273da",
   "metadata": {},
   "outputs": [
    {
     "name": "stdout",
     "output_type": "stream",
     "text": [
      "Missing values in each column:\n",
      "Id               0\n",
      "Date             0\n",
      "AvgHeartRate     0\n",
      "Calories         0\n",
      "SleepRecords     0\n",
      "MinutesAsleep    0\n",
      "TimeInBed        0\n",
      "TotalSteps       0\n",
      "dtype: int64\n",
      "Cleaned Data:\n",
      "           Id       Date  AvgHeartRate  Calories  SleepRecords  MinutesAsleep  \\\n",
      "0  2026352035 2016-04-17     68.656250      1214             1            437   \n",
      "1  2026352035 2016-04-25     99.505814      1576             1            506   \n",
      "2  2026352035 2016-05-02     84.134571      1690             1            511   \n",
      "3  2026352035 2016-05-09     98.233901      1869             1            531   \n",
      "4  2347167796 2016-04-13     73.812905      2038             1            467   \n",
      "\n",
      "   TimeInBed  TotalSteps  \n",
      "0        498         838  \n",
      "1        531        6017  \n",
      "2        543        7018  \n",
      "3        556       10685  \n",
      "4        531       10352  \n"
     ]
    }
   ],
   "source": [
    "# Drop redundant 'ActivityDay_x' and 'ActivityDay_y' columns\n",
    "merged_data.drop(columns=['ActivityDay_x', 'ActivityDay_y'], inplace=True)\n",
    "\n",
    "# Rename columns for consistency\n",
    "merged_data.rename(columns={\n",
    "    'Date': 'Date', \n",
    "    'AvgHeartRate': 'AvgHeartRate', \n",
    "    'Calories': 'Calories', \n",
    "    'TotalSleepRecords': 'SleepRecords', \n",
    "    'TotalMinutesAsleep': 'MinutesAsleep', \n",
    "    'TotalTimeInBed': 'TimeInBed', \n",
    "    'StepTotal': 'TotalSteps'\n",
    "}, inplace=True)\n",
    "\n",
    "# Check for missing values\n",
    "missing_values = merged_data.isnull().sum()\n",
    "print(\"Missing values in each column:\")\n",
    "print(missing_values)\n",
    "\n",
    "# Display the cleaned data\n",
    "print(\"Cleaned Data:\")\n",
    "print(merged_data.head())\n"
   ]
  },
  {
   "cell_type": "code",
   "execution_count": 10,
   "id": "6129d7d4",
   "metadata": {},
   "outputs": [
    {
     "name": "stdout",
     "output_type": "stream",
     "text": [
      "Scaled Training Features:\n",
      "[[ 1.22332229 -0.11379531  0.42712971  0.26825679  1.67850095]\n",
      " [-0.01649468 -0.94617283 -0.08412109 -0.18687406 -0.71574543]\n",
      " [-1.38148566  0.41431539  1.60829535  1.53434807 -0.77515839]\n",
      " [ 0.45128998 -0.58158879  0.18031898 -0.02137193  0.47706553]\n",
      " [-0.09938484  0.6435208   0.18913365  0.37583318 -0.69370514]]\n"
     ]
    }
   ],
   "source": [
    "from sklearn.model_selection import train_test_split\n",
    "from sklearn.preprocessing import StandardScaler\n",
    "\n",
    "# Step 4: Feature Engineering\n",
    "\n",
    "# Define target variable: 1 for high stress, 0 for low stress\n",
    "stress_threshold = 85  =\n",
    "merged_data['HighStress'] = (merged_data['AvgHeartRate'] > stress_threshold).astype(int)\n",
    "\n",
    "# Features for the model\n",
    "X = merged_data[['AvgHeartRate', 'Calories', 'MinutesAsleep', 'TimeInBed', 'TotalSteps']]\n",
    "y = merged_data['HighStress']\n",
    "\n",
    "# Split the data into training and testing sets\n",
    "X_train, X_test, y_train, y_test = train_test_split(X, y, test_size=0.3, random_state=42)\n",
    "\n",
    "# Standardize the features (scaling)\n",
    "scaler = StandardScaler()\n",
    "X_train_scaled = scaler.fit_transform(X_train)\n",
    "X_test_scaled = scaler.transform(X_test)\n",
    "\n",
    "# Display first few rows of scaled training data\n",
    "print(\"Scaled Training Features:\")\n",
    "print(X_train_scaled[:5])\n"
   ]
  },
  {
   "cell_type": "code",
   "execution_count": 11,
   "id": "454655f2",
   "metadata": {},
   "outputs": [
    {
     "name": "stdout",
     "output_type": "stream",
     "text": [
      "Accuracy: 0.9636\n",
      "Confusion Matrix:\n",
      "[[51  0]\n",
      " [ 2  2]]\n",
      "Classification Report:\n",
      "              precision    recall  f1-score   support\n",
      "\n",
      "           0       0.96      1.00      0.98        51\n",
      "           1       1.00      0.50      0.67         4\n",
      "\n",
      "    accuracy                           0.96        55\n",
      "   macro avg       0.98      0.75      0.82        55\n",
      "weighted avg       0.97      0.96      0.96        55\n",
      "\n"
     ]
    }
   ],
   "source": [
    "from sklearn.linear_model import LogisticRegression\n",
    "from sklearn.metrics import accuracy_score, confusion_matrix, classification_report\n",
    "\n",
    "# Step 5: Building and training a Logistic Regression model\n",
    "model = LogisticRegression()\n",
    "\n",
    "# Train the model on the training data\n",
    "model.fit(X_train_scaled, y_train)\n",
    "\n",
    "# Make predictions on the test data\n",
    "y_pred = model.predict(X_test_scaled)\n",
    "\n",
    "# Evaluate the model performance\n",
    "accuracy = accuracy_score(y_test, y_pred)\n",
    "conf_matrix = confusion_matrix(y_test, y_pred)\n",
    "class_report = classification_report(y_test, y_pred)\n",
    "\n",
    "print(f\"Accuracy: {accuracy:.4f}\")\n",
    "print(\"Confusion Matrix:\")\n",
    "print(conf_matrix)\n",
    "print(\"Classification Report:\")\n",
    "print(class_report)\n"
   ]
  },
  {
   "cell_type": "code",
   "execution_count": 12,
   "id": "4a103b51",
   "metadata": {},
   "outputs": [],
   "source": [
    "from imblearn.over_sampling import SMOTE\n",
    "smote = SMOTE()\n",
    "X_train_smote, y_train_smote = smote.fit_resample(X_train_scaled, y_train)\n"
   ]
  },
  {
   "cell_type": "code",
   "execution_count": 13,
   "id": "997c631f",
   "metadata": {},
   "outputs": [
    {
     "name": "stdout",
     "output_type": "stream",
     "text": [
      "              precision    recall  f1-score   support\n",
      "\n",
      "           0       0.98      1.00      0.99        51\n",
      "           1       1.00      0.75      0.86         4\n",
      "\n",
      "    accuracy                           0.98        55\n",
      "   macro avg       0.99      0.88      0.92        55\n",
      "weighted avg       0.98      0.98      0.98        55\n",
      "\n"
     ]
    }
   ],
   "source": [
    "from sklearn.ensemble import RandomForestClassifier\n",
    "model_rf = RandomForestClassifier()\n",
    "model_rf.fit(X_train_scaled, y_train)\n",
    "y_pred_rf = model_rf.predict(X_test_scaled)\n",
    "print(classification_report(y_test, y_pred_rf))\n"
   ]
  },
  {
   "cell_type": "code",
   "execution_count": null,
   "id": "5d6eb857",
   "metadata": {},
   "outputs": [],
   "source": []
  }
 ],
 "metadata": {
  "kernelspec": {
   "display_name": "Python 3 (ipykernel)",
   "language": "python",
   "name": "python3"
  },
  "language_info": {
   "codemirror_mode": {
    "name": "ipython",
    "version": 3
   },
   "file_extension": ".py",
   "mimetype": "text/x-python",
   "name": "python",
   "nbconvert_exporter": "python",
   "pygments_lexer": "ipython3",
   "version": "3.11.5"
  }
 },
 "nbformat": 4,
 "nbformat_minor": 5
}
